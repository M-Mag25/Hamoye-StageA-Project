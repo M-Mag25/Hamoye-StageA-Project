{
  "nbformat": 4,
  "nbformat_minor": 0,
  "metadata": {
    "colab": {
      "name": "Copy of Stage B lesson 3 code, Lesson 2 has no code",
      "provenance": [],
      "collapsed_sections": [],
      "authorship_tag": "ABX9TyPvNnFjsOKLBbotE/uM3Yo3",
      "include_colab_link": true
    },
    "kernelspec": {
      "name": "python3",
      "display_name": "Python 3"
    },
    "language_info": {
      "name": "python"
    }
  },
  "cells": [
    {
      "cell_type": "markdown",
      "metadata": {
        "id": "view-in-github",
        "colab_type": "text"
      },
      "source": [
        "<a href=\"https://colab.research.google.com/github/M-Mag25/Hamoye-StageA-Project/blob/main/Copy_of_Stage_B_lesson_3_code%2C_Lesson_2_has_no_code.ipynb\" target=\"_parent\"><img src=\"https://colab.research.google.com/assets/colab-badge.svg\" alt=\"Open In Colab\"/></a>"
      ]
    },
    {
      "cell_type": "code",
      "metadata": {
        "colab": {
          "base_uri": "https://localhost:8080/"
        },
        "id": "hw_V2JG8-ht5",
        "outputId": "0ba7579a-8011-4ffd-8f75-23bea8a9d6cd"
      },
      "source": [
        "#Mean Absolute Error\n",
        "#firstly, we normalise our dataset to a common scale using the min max scaler\n",
        "import pandas as pd \n",
        "from sklearn.preprocessing import MinMaxScaler\n",
        "scaler = MinMaxScaler()\n",
        "df=pd.read_excel('https://archive.ics.uci.edu/ml/machine-learning-databases/00242/ENB2012_data.xlsx')\n",
        "column_names = {'X1':'Relative_Compactness', 'X2': 'Surface_Area', 'X3': 'Wall_Area', 'X4': 'Roof_Area', 'X5':'Overall_Height', 'X6':'Orientation', 'X7':'Glazing_Area', 'X8':'Glazing_Area_Distribution','Y1':'Heating_Load','Y2':'Cooling_Load'}\n",
        "df = df.rename(columns=column_names)\n",
        "normalized_df = pd.DataFrame(scaler.fit_transform(df), columns = df.columns)\n",
        "features_df = normalized_df.drop(columns = ['Heating_Load','Cooling_Load'])\n",
        "heating_target = normalized_df['Heating_Load']\n",
        "#Now, we split our dataset into the training and testing dataset. Recall that we had earlier segmented the features and target variables\n",
        "from sklearn.model_selection import train_test_split\n",
        "x_train, x_test, y_train, y_test = train_test_split(features_df, heating_target,test_size= 0.3, random_state= 1)\n",
        "from sklearn.linear_model import LinearRegression\n",
        "linear_model =LinearRegression()\n",
        "#fit the model to the training dataset\n",
        "linear_model.fit(x_train, y_train)\n",
        "#obtain predictions\n",
        "predicted_values = linear_model.predict(x_test)\n",
        "#MAE\n",
        "from sklearn.metrics import mean_absolute_error\n",
        "mae = mean_absolute_error(y_test, predicted_values)\n",
        "round(mae, 3)"
      ],
      "execution_count": null,
      "outputs": [
        {
          "output_type": "execute_result",
          "data": {
            "text/plain": [
              "0.063"
            ]
          },
          "metadata": {},
          "execution_count": 15
        }
      ]
    },
    {
      "cell_type": "code",
      "metadata": {
        "colab": {
          "base_uri": "https://localhost:8080/"
        },
        "id": "A5Yygm-EDaAl",
        "outputId": "df065777-bd86-4b0b-d300-38b0b1c9dd22"
      },
      "source": [
        "#Residual Sum of Squares (RSS)\n",
        "import numpy as np\n",
        "rss= np.sum(np.square(y_test-predicted_values))\n",
        "round(rss, 3)"
      ],
      "execution_count": null,
      "outputs": [
        {
          "output_type": "execute_result",
          "data": {
            "text/plain": [
              "1.823"
            ]
          },
          "metadata": {},
          "execution_count": 21
        }
      ]
    },
    {
      "cell_type": "code",
      "metadata": {
        "colab": {
          "base_uri": "https://localhost:8080/"
        },
        "id": "46LVaLMXHXbY",
        "outputId": "270790c9-3e24-485d-e280-4d015f9e2d24"
      },
      "source": [
        "#Root Mean Square Error(RMSE)\n",
        "import numpy as np\n",
        "from sklearn.metrics import mean_squared_error\n",
        "rmse = np.sqrt(mean_squared_error(y_test, predicted_values))\n",
        "round(rmse, 3)\n"
      ],
      "execution_count": null,
      "outputs": [
        {
          "output_type": "execute_result",
          "data": {
            "text/plain": [
              "0.089"
            ]
          },
          "metadata": {},
          "execution_count": 22
        }
      ]
    },
    {
      "cell_type": "code",
      "metadata": {
        "colab": {
          "base_uri": "https://localhost:8080/"
        },
        "id": "eFxEjGGrJZNJ",
        "outputId": "a1fb97d7-7ba7-4ad0-f272-bc6b1cd915b2"
      },
      "source": [
        "#R-Squared\n",
        "from sklearn.metrics import r2_score\n",
        "r2_score = r2_score(y_test, predicted_values)\n",
        "round(r2_score, 3)"
      ],
      "execution_count": null,
      "outputs": [
        {
          "output_type": "execute_result",
          "data": {
            "text/plain": [
              "0.893"
            ]
          },
          "metadata": {},
          "execution_count": 23
        }
      ]
    },
    {
      "cell_type": "code",
      "metadata": {
        "id": "SwjZ9-8ZJtl5"
      },
      "source": [
        ""
      ],
      "execution_count": null,
      "outputs": []
    }
  ]
}