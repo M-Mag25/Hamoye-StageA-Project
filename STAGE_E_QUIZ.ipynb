{
  "nbformat": 4,
  "nbformat_minor": 0,
  "metadata": {
    "colab": {
      "name": "STAGE E QUIZ",
      "provenance": [],
      "collapsed_sections": [],
      "authorship_tag": "ABX9TyN3Ldz9RR71j1Obq0X9v0Qd",
      "include_colab_link": true
    },
    "kernelspec": {
      "name": "python3",
      "display_name": "Python 3"
    },
    "language_info": {
      "name": "python"
    }
  },
  "cells": [
    {
      "cell_type": "markdown",
      "metadata": {
        "id": "view-in-github",
        "colab_type": "text"
      },
      "source": [
        "<a href=\"https://colab.research.google.com/github/M-Mag25/Hamoye-StageA-Project/blob/main/STAGE_E_QUIZ.ipynb\" target=\"_parent\"><img src=\"https://colab.research.google.com/assets/colab-badge.svg\" alt=\"Open In Colab\"/></a>"
      ]
    },
    {
      "cell_type": "code",
      "metadata": {
        "id": "Xw1dYSV58EQX"
      },
      "source": [
        "import pandas as pd \n",
        "import numpy as np\n",
        "import seaborn as sns\n",
        "import matplotlib.pyplot as plt\n"
      ],
      "execution_count": null,
      "outputs": []
    },
    {
      "cell_type": "code",
      "metadata": {
        "id": "K62yNXPi8I2D",
        "colab": {
          "base_uri": "https://localhost:8080/"
        },
        "outputId": "64107eb0-0ea2-49d5-d84a-948fee82b74b"
      },
      "source": [
        "df = pd.read_csv(\"https://archive.ics.uci.edu/ml/datasets/individual+household+electric+power+consumption.csv\", sep='delimiter', header=None)\n",
        "df.info()\n",
        "df.head"
      ],
      "execution_count": null,
      "outputs": [
        {
          "output_type": "stream",
          "name": "stdout",
          "text": [
            "<class 'pandas.core.frame.DataFrame'>\n",
            "RangeIndex: 114 entries, 0 to 113\n",
            "Data columns (total 1 columns):\n",
            " #   Column  Non-Null Count  Dtype \n",
            "---  ------  --------------  ----- \n",
            " 0   0       114 non-null    object\n",
            "dtypes: object(1)\n",
            "memory usage: 1.0+ KB\n"
          ]
        },
        {
          "output_type": "stream",
          "name": "stderr",
          "text": [
            "/usr/local/lib/python3.7/dist-packages/ipykernel_launcher.py:1: ParserWarning: Falling back to the 'python' engine because the 'c' engine does not support regex separators (separators > 1 char and different from '\\s+' are interpreted as regex); you can avoid this warning by specifying engine='python'.\n",
            "  \"\"\"Entry point for launching an IPython kernel.\n"
          ]
        },
        {
          "output_type": "execute_result",
          "data": {
            "text/plain": [
              "<bound method NDFrame.head of                                                      0\n",
              "0    <!DOCTYPE HTML PUBLIC \\\"-//W3C//DTD HTML 4.01 ...\n",
              "1                                               <html>\n",
              "2                                               <head>\n",
              "3    <title>UCI Machine Learning Repository:  Data ...\n",
              "4                             <!-- Stylesheet link -->\n",
              "..                                                 ...\n",
              "109           <a href=\"http://cml.ics.uci.edu\">CML</a>\n",
              "110                                            </span>\n",
              "111                                          </center>\n",
              "112                                            </body>\n",
              "113                                            </html>\n",
              "\n",
              "[114 rows x 1 columns]>"
            ]
          },
          "metadata": {},
          "execution_count": 88
        }
      ]
    },
    {
      "cell_type": "code",
      "metadata": {
        "colab": {
          "base_uri": "https://localhost:8080/"
        },
        "id": "JaVHCJdy8VNU",
        "outputId": "200a772b-fa00-418d-a53c-e68f7795ad82"
      },
      "source": [
        "df.describe"
      ],
      "execution_count": null,
      "outputs": [
        {
          "output_type": "execute_result",
          "data": {
            "text/plain": [
              "<bound method NDFrame.describe of                                                      0\n",
              "0    <!DOCTYPE HTML PUBLIC \\\"-//W3C//DTD HTML 4.01 ...\n",
              "1                                               <html>\n",
              "2                                               <head>\n",
              "3    <title>UCI Machine Learning Repository:  Data ...\n",
              "4                             <!-- Stylesheet link -->\n",
              "..                                                 ...\n",
              "109           <a href=\"http://cml.ics.uci.edu\">CML</a>\n",
              "110                                            </span>\n",
              "111                                          </center>\n",
              "112                                            </body>\n",
              "113                                            </html>\n",
              "\n",
              "[114 rows x 1 columns]>"
            ]
          },
          "metadata": {},
          "execution_count": 69
        }
      ]
    },
    {
      "cell_type": "code",
      "metadata": {
        "colab": {
          "base_uri": "https://localhost:8080/"
        },
        "id": "wwEHzpum9beV",
        "outputId": "bf08d8d5-8d3e-4e5e-a833-32fc0d8157ce"
      },
      "source": [
        "df.isnull().values.any()"
      ],
      "execution_count": null,
      "outputs": [
        {
          "output_type": "execute_result",
          "data": {
            "text/plain": [
              "False"
            ]
          },
          "metadata": {},
          "execution_count": 70
        }
      ]
    },
    {
      "cell_type": "code",
      "metadata": {
        "id": "FXVvfVSr-ygz",
        "colab": {
          "base_uri": "https://localhost:8080/"
        },
        "outputId": "f42fc308-e517-4829-b7d4-ade41d397bc3"
      },
      "source": [
        "df.shape"
      ],
      "execution_count": null,
      "outputs": [
        {
          "output_type": "execute_result",
          "data": {
            "text/plain": [
              "(114, 1)"
            ]
          },
          "metadata": {},
          "execution_count": 71
        }
      ]
    },
    {
      "cell_type": "code",
      "metadata": {
        "colab": {
          "base_uri": "https://localhost:8080/"
        },
        "id": "pO5F5_d6EjGY",
        "outputId": "be6ff9a0-fba3-4839-cec8-6630dc4b1f0c"
      },
      "source": [
        "df_copy = df.copy()\n",
        "rows = df_copy.sample(frac= 0.1 , random_state= 0 )\n",
        "rows[ 'date' ] = np.nan\n",
        "df_copy.loc[rows.index, 'date' ] = rows[ 'date' ]\n",
        "df_copy.isnull().sum()"
      ],
      "execution_count": null,
      "outputs": [
        {
          "output_type": "execute_result",
          "data": {
            "text/plain": [
              "0         0\n",
              "date    114\n",
              "dtype: int64"
            ]
          },
          "metadata": {},
          "execution_count": 72
        }
      ]
    },
    {
      "cell_type": "code",
      "metadata": {
        "colab": {
          "base_uri": "https://localhost:8080/"
        },
        "id": "C7KQQ6pyFZqA",
        "outputId": "def98685-7c8c-4d81-c63a-2b4a541530fd"
      },
      "source": [
        "#Filling missing data by imputation - Forward fill\n",
        "df_copy_ffill = df_copy.fillna(method= 'ffill' )\n",
        "df_copy_ffill.isnull().sum() "
      ],
      "execution_count": null,
      "outputs": [
        {
          "output_type": "execute_result",
          "data": {
            "text/plain": [
              "0         0\n",
              "date    114\n",
              "dtype: int64"
            ]
          },
          "metadata": {},
          "execution_count": 73
        }
      ]
    },
    {
      "cell_type": "code",
      "metadata": {
        "colab": {
          "base_uri": "https://localhost:8080/"
        },
        "id": "5QQNFgA6FcDn",
        "outputId": "612353d9-95a3-47fe-cc66-13e5321e461c"
      },
      "source": [
        "#Filling missing data by imputation - Backward fill\n",
        "df_copy_bfill = df_copy.fillna(method= 'bfill' )\n",
        "df_copy_bfill.isnull().sum()"
      ],
      "execution_count": null,
      "outputs": [
        {
          "output_type": "execute_result",
          "data": {
            "text/plain": [
              "0         0\n",
              "date    114\n",
              "dtype: int64"
            ]
          },
          "metadata": {},
          "execution_count": 74
        }
      ]
    },
    {
      "cell_type": "code",
      "metadata": {
        "colab": {
          "base_uri": "https://localhost:8080/"
        },
        "id": "AemHjUWRNRLH",
        "outputId": "5b4a8b45-5492-4bfe-a350-d53ab53b79c6"
      },
      "source": [
        "df_copy_LIF = df_copy.interpolate(method= 'linear' , limit_direction= 'forward' )\n",
        "df_copy_LIF.isnull().sum()\n",
        "df_copy_LIB = df_copy.interpolate(method= 'linear' , limit_direction= 'backward' )\n",
        "df_copy_LIB.isnull().sum()"
      ],
      "execution_count": null,
      "outputs": [
        {
          "output_type": "execute_result",
          "data": {
            "text/plain": [
              "0         0\n",
              "date    114\n",
              "dtype: int64"
            ]
          },
          "metadata": {},
          "execution_count": 75
        }
      ]
    },
    {
      "cell_type": "code",
      "metadata": {
        "id": "KEphOh_wFe-L"
      },
      "source": [
        ""
      ],
      "execution_count": null,
      "outputs": []
    },
    {
      "cell_type": "code",
      "metadata": {
        "id": "4dkFotX-NbwC"
      },
      "source": [
        ""
      ],
      "execution_count": null,
      "outputs": []
    }
  ]
}