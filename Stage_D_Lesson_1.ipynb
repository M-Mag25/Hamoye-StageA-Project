{
  "nbformat": 4,
  "nbformat_minor": 0,
  "metadata": {
    "colab": {
      "name": "Stage D. Lesson 1",
      "provenance": [],
      "collapsed_sections": [],
      "authorship_tag": "ABX9TyMufQe3ROxdKsXCxpF4QXoS",
      "include_colab_link": true
    },
    "kernelspec": {
      "name": "python3",
      "display_name": "Python 3"
    },
    "language_info": {
      "name": "python"
    }
  },
  "cells": [
    {
      "cell_type": "markdown",
      "metadata": {
        "id": "view-in-github",
        "colab_type": "text"
      },
      "source": [
        "<a href=\"https://colab.research.google.com/github/M-Mag25/Hamoye-StageA-Project/blob/main/Stage_D_Lesson_1.ipynb\" target=\"_parent\"><img src=\"https://colab.research.google.com/assets/colab-badge.svg\" alt=\"Open In Colab\"/></a>"
      ]
    },
    {
      "cell_type": "code",
      "metadata": {
        "colab": {
          "base_uri": "https://localhost:8080/"
        },
        "id": "qeh9W2C9gCzO",
        "outputId": "2cd4eb77-521b-428d-89aa-8ece617129ec"
      },
      "source": [
        "import numpy as np\n",
        "import matplotlib.pyplot as plt\n",
        "import tensorflow as tf\n",
        "from tensorflow import keras\n",
        "mnist = keras.datasets.mnist\n",
        "(train_images, train_labels), (test_images, test_labels) = mnist.load_data()\n",
        "print(\"Training data: {}, {}\".format(train_images.shape, train_labels.shape))\n",
        "print(\"Test data: {}, {}\".format(test_images.shape, test_labels.shape))\n",
        "class_labels = np.unique(train_labels)\n",
        "print(\"There are {} classes in the dataset. They are: {}\".format(len(class_labels), class_labels))"
      ],
      "execution_count": 65,
      "outputs": [
        {
          "output_type": "stream",
          "name": "stdout",
          "text": [
            "Training data: (60000, 28, 28), (60000,)\n",
            "Test data: (10000, 28, 28), (10000,)\n",
            "There are 10 classes in the dataset. They are: [0 1 2 3 4 5 6 7 8 9]\n"
          ]
        }
      ]
    },
    {
      "cell_type": "code",
      "metadata": {
        "colab": {
          "base_uri": "https://localhost:8080/",
          "height": 195
        },
        "id": "xfxv78H3hLvo",
        "outputId": "bbc34a43-3440-4032-d3cd-7d6a0bb5de79"
      },
      "source": [
        "#VISUALIZE THE DATA\n",
        "\n",
        "plt.figure(figsize=(8, 5))\n",
        "\n",
        "plt.subplot(1,3,1)\n",
        "plt.imshow(train_images[0])\n",
        "plt.title(\"Label: {}\".format(train_labels[0]))\n",
        "plt.subplot(1,3,2)\n",
        "plt.imshow(train_images[2500])\n",
        "plt.title(\"Label: {}\".format(train_labels[2500]))\n",
        "plt.subplot(1,3,3)\n",
        "plt.imshow(test_images[12])\n",
        "plt.show()"
      ],
      "execution_count": 66,
      "outputs": [
        {
          "output_type": "display_data",
          "data": {
            "image/png": "[encoded data removed]",
            "text/plain": [
              "<Figure size 576x360 with 3 Axes>"
            ]
          },
          "metadata": {
            "needs_background": "light"
          }
        }
      ]
    },
    {
      "cell_type": "code",
      "metadata": {
        "colab": {
          "base_uri": "https://localhost:8080/",
          "height": 513
        },
        "id": "GZXJCJs9iOdt",
        "outputId": "6c14ce63-9e51-4506-e238-839192aeec9f"
      },
      "source": [
        "# As usual, we scale our dataset to range between 0 and 1. In this dataset, the pixel values\n",
        "# Dividing the data by 255 scales to the required range\n",
        "\n",
        "train_images = train_images / 255.0\n",
        "test_images = test_images / 255.0\n",
        "plt.imshow(train_images[0])\n",
        "plt.show()\n",
        "\n",
        "plt.imshow(test_images[100])\n",
        "plt.show()"
      ],
      "execution_count": 67,
      "outputs": [
        {
          "output_type": "display_data",
          "data": {
            "image/png": "[encoded data removed]",
            "text/plain": [
              "<Figure size 432x288 with 1 Axes>"
            ]
          },
          "metadata": {
            "needs_background": "light"
          }
        },
        {
          "output_type": "display_data",
          "data": {
            "image/png": "[encoded data removed]",
            "text/plain": [
              "<Figure size 432x288 with 1 Axes>"
            ]
          },
          "metadata": {
            "needs_background": "light"
          }
        }
      ]
    },
    {
      "cell_type": "code",
      "metadata": {
        "colab": {
          "base_uri": "https://localhost:8080/"
        },
        "id": "iNKY2URx6OUw",
        "outputId": "133d6735-4247-49e6-e865-3658162e359f"
      },
      "source": [
        "x_train = train_images[0:50000]\n",
        "x_val = train_images[50000:]\n",
        "y_train = train_labels[0:50000]\n",
        "y_val = train_labels[50000:]\n",
        "print(\"x_train: {}\".format(x_train.shape)) # prints x_train: (50000, 28, 28)\n",
        "print(\"x_val: {}\".format(x_val.shape)) # prints x_val: (10000, 28, 28)\n",
        "print(\"y_train: {}\".format(y_train.shape)) #prints y_train: (50000,)\n",
        "print(\"y_val: {}\".format(y_val.shape)) #prints y_val: (10000,)\n"
      ],
      "execution_count": 68,
      "outputs": [
        {
          "output_type": "stream",
          "name": "stdout",
          "text": [
            "x_train: (50000, 28, 28)\n",
            "x_val: (10000, 28, 28)\n",
            "y_train: (50000,)\n",
            "y_val: (10000,)\n"
          ]
        }
      ]
    },
    {
      "cell_type": "code",
      "metadata": {
        "colab": {
          "base_uri": "https://localhost:8080/"
        },
        "id": "FNQJpGGQiXlN",
        "outputId": "d4bd9b0a-b949-4562-efbf-531a1682a6d9"
      },
      "source": [
        "#Reshape data from 28 * 28 array to a single array\n",
        "\n",
        "new_dimension = np.prod(train_images.shape[1:])\n",
        "x_train = x_train.reshape(x_train.shape[0], new_dimension)\n",
        "x_val = x_val.reshape(x_val.shape[0], new_dimension)\n",
        "test_images = test_images.reshape(test_images.shape[0], new_dimension)\n",
        "print(\"x_train: {}\".format(x_train.shape)) #prints x_train: (50000, 784)\n",
        "print(\"x_val: {}\".format(x_val.shape)) #prints x_val: (10000, 784)\n",
        "print(\"test_images: {}\".format(test_images.shape)) #prints test_images: (10000, 784)"
      ],
      "execution_count": 69,
      "outputs": [
        {
          "output_type": "stream",
          "name": "stdout",
          "text": [
            "x_train: (50000, 784)\n",
            "x_val: (10000, 784)\n",
            "test_images: (10000, 784)\n"
          ]
        }
      ]
    },
    {
      "cell_type": "code",
      "metadata": {
        "id": "qzjjWIcUid6C"
      },
      "source": [
        "#Encode labels to categorical variables\n",
        "\n",
        "from tensorflow.keras.utils import to_categorical\n",
        "no_labels = 10\n",
        "y_train = to_categorical(y_train, no_labels)\n",
        "y_val = to_categorical(y_val, no_labels)\n",
        "y_test = to_categorical(test_labels, no_labels)\n",
        "\n",
        "\n",
        "#Activation functions and Neural Networks hyperparameters\n",
        "import tensorflow.compat.v1 as tf\n",
        "tf.disable_v2_behavior() \n",
        "\n",
        "X = tf.placeholder(tf.float32, [None, new_dimension])\n",
        "Y = tf.placeholder(tf.float32, [None, no_labels])\n",
        "\n",
        "# create model architecture\n",
        "\n",
        "def multilayer_perceptron(x, no_classes, first_layer_neurons=256, second_layer_neurons=128):\n",
        "# first layer\n",
        " first_weight = tf.Variable(tf.random_uniform([new_dimension, first_layer_neurons]))\n",
        " first_bias = tf.Variable(tf.zeros([first_layer_neurons]))\n",
        " first_layer_output = tf.nn.relu(tf.add(tf.matmul(x, first_weight), first_bias))\n",
        " # second layer\n",
        " second_weight = tf.Variable(tf.random_uniform([first_layer_neurons,second_layer_neurons]))\n",
        " second_bias = tf.Variable(tf.zeros([second_layer_neurons]))\n",
        " second_layer_output = tf.nn.relu(tf.add(tf.matmul(first_layer_output, second_weight),\n",
        " second_bias))\n",
        " # output layer\n",
        " final_weight = tf.Variable(tf.random_uniform([second_layer_neurons, no_classes]))\n",
        " final_bias = tf.Variable(tf.zeros([no_classes]))\n",
        " logits = tf.add(tf.matmul(second_layer_output, final_weight), final_bias)\n",
        " return logits"
      ],
      "execution_count": 72,
      "outputs": []
    },
    {
      "cell_type": "code",
      "metadata": {
        "id": "t-YhBRHpsc31"
      },
      "source": [
        "#Call the multilayer perception function\n",
        "logits = multilayer_perceptron(X, no_labels)\n",
        "learning_rate = 0.01\n",
        "\n",
        "#we define the loss and optimiser for the network\n",
        "loss_op = tf.reduce_mean(tf.nn.softmax_cross_entropy_with_logits(logits=logits, labels=Y))\n",
        "optimiser = tf.train.AdamOptimizer(learning_rate=learning_rate)\n",
        "train_op = optimiser.minimize(loss_op)\n",
        "\n",
        "#initialise the variables\n",
        "init = tf.global_variables_initializer()\n",
        "epochs = 20\n",
        "batch_size = 1000\n",
        "iteration = len(x_train) // batch_size\n",
        "\n"
      ],
      "execution_count": 73,
      "outputs": []
    },
    {
      "cell_type": "code",
      "metadata": {
        "id": "k3WvNRifuGZr"
      },
      "source": [
        ""
      ],
      "execution_count": 75,
      "outputs": []
    },
    {
      "cell_type": "code",
      "metadata": {
        "id": "n_DNFEUPtg5O"
      },
      "source": [
        ""
      ],
      "execution_count": null,
      "outputs": []
    }
  ]
}